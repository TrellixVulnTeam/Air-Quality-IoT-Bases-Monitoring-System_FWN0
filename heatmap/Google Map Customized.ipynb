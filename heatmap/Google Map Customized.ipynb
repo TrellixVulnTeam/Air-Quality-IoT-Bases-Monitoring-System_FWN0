{
 "cells": [
  {
   "cell_type": "code",
   "execution_count": 11,
   "metadata": {},
   "outputs": [],
   "source": [
    "API_KEY = \"AIzaSyBSjM\""
   ]
  },
  {
   "cell_type": "code",
   "execution_count": 15,
   "metadata": {},
   "outputs": [
    {
     "name": "stdout",
     "output_type": "stream",
     "text": [
      "2020-02-27\n",
      "['20.82', '20.72', '20.63', '20.63', '20.63', '20.53', '20.63', '20.53', '20.82', '20.72', '20.63', '20.72', '20.63', '19.26', '19.26', '20.43', '20.53', '20.72', '20.53', '20.43', '20.33', '20.43', '20.43', '20.53', '20.63', '20.63', '20.53', '20.82', '20.82', '20.92', '20.92', '20.92', '20.82', '20.82', '20.72', '20.72', '20.63', '20.53', '18.96', '20.63', '20.53', '19.26', '17.79', '17.30', '16.81', '16.91', '16.62', '17.40', '17.69', '17.69', '17.69', '17.20', '51.71', '27.37', '25.51', '24.24', '21.99', '21.51', '20.82', '18.96', '18.57', '18.38', '0.20', '0.20', '0.20', '0.29', '0.20', '20.92', '100.00', '85.83', '74.49', '52.39', '47.51', '45.06', '14.08', '13.88', '14.08', '14.08', '14.17', '14.17', '14.37', '14.57', '14.57', '14.57', '14.76', '14.96', '15.05', '15.05', '15.05', '15.05', '15.35', '20.82', '19.65', '19.35', '19.16', '19.16', '18.77', '19.26', '19.06', '18.77']\n",
      "100 36\n",
      "Source to destination distance 2.5088785871093147 km\n",
      "Source Location Christ University, 7th Cross Road, Sadgunte Palya, Suddagunte Palya Ward, South Zone, Bengaluru, Bangalore South, Bangalore Urban, Karnataka, 560029, India\n",
      "Destination Location Silk Board, Outer Ring Road, Madivala, South Zone, Bengaluru, Bangalore South, Bangalore Urban, Karnataka, - 560034, India\n"
     ]
    },
    {
     "data": {
      "application/vnd.jupyter.widget-view+json": {
       "model_id": "5dd5b905a8af488ea2bc81383439434d",
       "version_major": 2,
       "version_minor": 0
      },
      "text/plain": [
       "Figure(layout=FigureLayout(border='5px solid green', height='600px', padding='1px', width='800px'))"
      ]
     },
     "metadata": {},
     "output_type": "display_data"
    }
   ],
   "source": [
    "from datetime import date\n",
    "from ipywidgets.embed import embed_minimal_html\n",
    "import requests\n",
    "import gmaps\n",
    "from ipywidgets import IntSlider\n",
    "import urllib, json\n",
    "from geopy import distance\n",
    "from geopy.geocoders import Nominatim\n",
    "from geopy.geocoders import LiveAddress\n",
    "geolocator = Nominatim(user_agent=\"specify_your_app_name_here\")\n",
    "\n",
    "# generate some (latitude, longitude) pairs\n",
    "locations = [(51.5, 0.1), (51.7, 0.2), (51.4, -0.2), (51.49, 0.1),]\n",
    "url = \"https://thingspeak.com/channels/947614/field/1.json\"\n",
    "x = requests.get(url)\n",
    "# print(x.response)\n",
    "print(date.today())\n",
    "# print(x.json())\n",
    "\n",
    "y=dict(x.json())\n",
    "# print(\"feeds\",y['feeds'])\n",
    "\n",
    "lst_high = []\n",
    "lst_modrate = []\n",
    "lst_low = []\n",
    "weights = []\n",
    "for  value in y['feeds']:\n",
    "#     print(value)\n",
    "    for j,i in value.items():\n",
    "        if j=='field1':\n",
    "            y = i.replace(\"\\n\",\"\")\n",
    "            x = y.replace(\"r\",\"\")\n",
    "            \n",
    "            if float(x) > 15.0:\n",
    "               \n",
    "                lst_high.append(float(x))\n",
    "                weights.append(x)\n",
    "            elif float(x) > 10 and float(x) < 15:\n",
    "                lst_modrate.append(float(x))\n",
    "                weights.append(x)\n",
    "            elif float(x) < 10 and float(x) > 0:\n",
    "                lst_low.append(float(x))\n",
    "                weights.append(x)\n",
    "                       \n",
    "gmaps.configure(api_key = 'AIzaSyBSjMmeNnPp0')\n",
    "locations = [(28.1, 76.1), (28.2,76.2),(28.3, 76.3), (28.4,75.4),(28.5, 75.5), (28.6,75.6),(28.7, \n",
    "                 77.7), (28.8,77.8),(28.9, 71.0), (28.10,77.10),(28.11, 77.11), (28.12,77.12),(12.1, 77.1), (12.2,77.2),(12.3, 77.3), (12.4,77.4),(12.5, 77.5), (12.6,77.6),(12.7, \n",
    "                 77.7), (12.8,77.8),(12.9, 77.9), (12.10,77.10),(12.11, 77.11), (12.12,77.12),(31.1, 77.1), (31.2,77.2),(31.3, 77.3), (31.4,77.4),(31.5, 77.5), (31.6,77.6),(31.7, \n",
    "                 77.7), (31.8,77.8),(31.9, 77.9), (31.10,77.10),(31.11, 77.11), (31.12,77.12)]\n",
    "def  air_quality_high():\n",
    "    locations = [(31.1, 77.1), (31.2,77.2),(31.3, 77.3), (31.4,77.4),(31.5, 77.5), (31.6,77.6),(31.7, \n",
    "                 77.7), (31.8,77.8),(31.9, 77.9), (31.10,77.10),(31.11, 77.11), (31.12,77.12)]\n",
    "#     air_quality_high_layer = gmaps.symbol_layer(\n",
    "#     locations, fill_color='rgba(0, 150, 0, 0.4)',\n",
    "#     stroke_color='rgba(0, 150, 0, 0.4)', scale=2)\n",
    "#     heatmap_layer = gmaps.heatmap_layer(locations,point_radius=600)\n",
    "    return locations \n",
    "#,air_quality_high_layer\n",
    "def air_quality_low():\n",
    "    locations = [(12.1, 77.1), (12.2,77.2),(12.3, 77.3), (12.4,77.4),(12.5, 77.5), (12.6,77.6),(12.7, \n",
    "                 77.7), (12.8,77.8),(12.9, 77.9), (12.10,77.10),(12.11, 77.11), (12.12,77.12)]\n",
    "    return locations\n",
    "#,air_quality_low_layer\n",
    "def air_quality_modrate():\n",
    "    locations = [28.1, 77.1, 28.2,77.2,28.3, 77.3, 28.4,77.4,28.5, 77.5, 28.6,77.6,28.7, \n",
    "                 77.7, 28.8,77.8,28.9, 77.9, 28.10,77.10,28.11, 77.11, 28.12,77.12]\n",
    "#     heatmap_layer = gmaps.heatmap_layer(locations,point_radius=600)\n",
    "    return locations \n",
    "#,air_quality_modrate_layer\n",
    "def road_map_from_source_to_destination(source_location,destination_location):\n",
    "    return source_location, destination_location\n",
    "# source_location,destination_location = road_map_from_source_to_destination(source_loc,destination_loc)\n",
    "location_low= air_quality_low()\n",
    "locations_modrate = air_quality_modrate()\n",
    "location_high = air_quality_modrate()\n",
    "location_low.append(locations_modrate)\n",
    "location_low.append(location_high)\n",
    "figure_layout = {\n",
    "    'width': '800px',\n",
    "    'height': '600px',\n",
    "    'border': '5px solid green',\n",
    "    'padding': '1px',\n",
    "    'color':'blue'\n",
    "}\n",
    "loc_high = locations[:15]\n",
    "loc_low = locations[15:30]\n",
    "loc_mod = locations[30::]\n",
    "# locations\n",
    "loc_len = len(locations)\n",
    "# weight =[]\n",
    "# weight = location_low[:loc_len]\n",
    "print(weights)\n",
    "print(len(weights),loc_len)\n",
    "heatmap_layer = gmaps.heatmap_layer(locations,weights=weights[:loc_len], max_intensity=3,point_radius=8.0)\n",
    "air_quality_modrate_layer = gmaps.symbol_layer(loc_mod, fill_color='rgba(0, 150, 0, 0.4)',stroke_color='yellow', scale=4)\n",
    "air_quality_high_layer = gmaps.symbol_layer(loc_high, fill_color='rgba(0, 150, 0, 0.4)',stroke_color='red', scale=4)\n",
    "air_quality_low_layer = gmaps.symbol_layer( loc_low, fill_color='rgba(0, 150, 0, 0.4)',stroke_color='green', scale=4)\n",
    "source_loc = geolocator.geocode(\"Christ University Bangalore\")\n",
    "desti_loc = geolocator.geocode(\"  Silk Board   Bangalore\")\n",
    "waypoints = [(12.9171772,77.6078863),(12.927424,77.6042453)]\n",
    "locate = (source_loc.latitude,source_loc.longitude)\n",
    "fig = gmaps.figure(map_type='ROADMAP',center=locate, zoom_level=9,layout=figure_layout,mouse_handling='GREEDY')\n",
    "source_to_destination = gmaps.directions_layer((source_loc.latitude, source_loc.longitude),(desti_loc.latitude,desti_loc.longitude),waypoints=waypoints,stroke_color='red',show_route=True,show_markers = True,stroke_opacity=1.0, stroke_weight=6.6,travel_mode='DRIVING')\n",
    "air_quality_congestion_zone_path =[(12.9716, 77.5946),(12.483,77.69),(12.326,77.46),(12.16,77.59),(12.45,77.45)]\n",
    "air_quality_congestion_zone_polygon = gmaps.Polygon(\n",
    "    air_quality_congestion_zone_path,\n",
    "    stroke_color='blue',\n",
    "    fill_color='blue'\n",
    ")\n",
    "drawing = gmaps.drawing_layer(\n",
    "    features=[air_quality_congestion_zone_polygon],\n",
    "    show_controls=False\n",
    ")\n",
    "print(\"Source to destination distance\",distance.distance((source_loc.latitude,source_loc.longitude),(desti_loc.latitude,desti_loc.longitude)).km,\"km\")\n",
    "print(\"Source Location\",source_loc.address)\n",
    "print(\"Destination Location\",desti_loc.address)\n",
    "fig.add_layer(air_quality_modrate_layer)\n",
    "fig.add_layer(air_quality_high_layer)\n",
    "fig.add_layer(air_quality_low_layer)\n",
    "\n",
    "fig.add_layer(heatmap_layer)\n",
    "fig.add_layer(gmaps.traffic_layer())\n",
    "fig.add_layer(source_to_destination)\n",
    "fig.add_layer(gmaps.transit_layer())\n",
    "fig\n",
    "\n"
   ]
  },
  {
   "cell_type": "code",
   "execution_count": 76,
   "metadata": {},
   "outputs": [
    {
     "name": "stdout",
     "output_type": "stream",
     "text": [
      "serving at port 8002\n"
     ]
    },
    {
     "ename": "KeyboardInterrupt",
     "evalue": "",
     "output_type": "error",
     "traceback": [
      "\u001b[1;31m---------------------------------------------------------------------------\u001b[0m",
      "\u001b[1;31mKeyboardInterrupt\u001b[0m                         Traceback (most recent call last)",
      "\u001b[1;32m<ipython-input-76-9f03efae9ae8>\u001b[0m in \u001b[0;36m<module>\u001b[1;34m\u001b[0m\n\u001b[0;32m     15\u001b[0m \u001b[1;32mwith\u001b[0m \u001b[0msocketserver\u001b[0m\u001b[1;33m.\u001b[0m\u001b[0mTCPServer\u001b[0m\u001b[1;33m(\u001b[0m\u001b[1;33m(\u001b[0m\u001b[1;34m\"\"\u001b[0m\u001b[1;33m,\u001b[0m \u001b[0mPORT\u001b[0m\u001b[1;33m)\u001b[0m\u001b[1;33m,\u001b[0m \u001b[0mHandler\u001b[0m\u001b[1;33m)\u001b[0m \u001b[1;32mas\u001b[0m \u001b[0mhttpd\u001b[0m\u001b[1;33m:\u001b[0m\u001b[1;33m\u001b[0m\u001b[1;33m\u001b[0m\u001b[0m\n\u001b[0;32m     16\u001b[0m     \u001b[0mprint\u001b[0m\u001b[1;33m(\u001b[0m\u001b[1;34m\"serving at port\"\u001b[0m\u001b[1;33m,\u001b[0m \u001b[0mPORT\u001b[0m\u001b[1;33m)\u001b[0m\u001b[1;33m\u001b[0m\u001b[1;33m\u001b[0m\u001b[0m\n\u001b[1;32m---> 17\u001b[1;33m     \u001b[0mhttpd\u001b[0m\u001b[1;33m.\u001b[0m\u001b[0mserve_forever\u001b[0m\u001b[1;33m(\u001b[0m\u001b[1;33m)\u001b[0m\u001b[1;33m\u001b[0m\u001b[1;33m\u001b[0m\u001b[0m\n\u001b[0m\u001b[0;32m     18\u001b[0m     \u001b[0mprint\u001b[0m\u001b[1;33m(\u001b[0m\u001b[0mhttpd\u001b[0m\u001b[1;33m.\u001b[0m\u001b[0mresponse\u001b[0m\u001b[1;33m)\u001b[0m\u001b[1;33m\u001b[0m\u001b[1;33m\u001b[0m\u001b[0m\n\u001b[0;32m     19\u001b[0m     \u001b[0mxy\u001b[0m \u001b[1;33m=\u001b[0m \u001b[0membed_minimal_html\u001b[0m\u001b[1;33m(\u001b[0m\u001b[1;34m'export.html'\u001b[0m\u001b[1;33m,\u001b[0m \u001b[0mviews\u001b[0m\u001b[1;33m=\u001b[0m\u001b[1;33m[\u001b[0m\u001b[0mfig\u001b[0m\u001b[1;33m]\u001b[0m\u001b[1;33m)\u001b[0m\u001b[1;33m\u001b[0m\u001b[1;33m\u001b[0m\u001b[0m\n",
      "\u001b[1;32mD:\\Workspace\\lib\\socketserver.py\u001b[0m in \u001b[0;36mserve_forever\u001b[1;34m(self, poll_interval)\u001b[0m\n\u001b[0;32m    230\u001b[0m \u001b[1;33m\u001b[0m\u001b[0m\n\u001b[0;32m    231\u001b[0m                 \u001b[1;32mwhile\u001b[0m \u001b[1;32mnot\u001b[0m \u001b[0mself\u001b[0m\u001b[1;33m.\u001b[0m\u001b[0m__shutdown_request\u001b[0m\u001b[1;33m:\u001b[0m\u001b[1;33m\u001b[0m\u001b[1;33m\u001b[0m\u001b[0m\n\u001b[1;32m--> 232\u001b[1;33m                     \u001b[0mready\u001b[0m \u001b[1;33m=\u001b[0m \u001b[0mselector\u001b[0m\u001b[1;33m.\u001b[0m\u001b[0mselect\u001b[0m\u001b[1;33m(\u001b[0m\u001b[0mpoll_interval\u001b[0m\u001b[1;33m)\u001b[0m\u001b[1;33m\u001b[0m\u001b[1;33m\u001b[0m\u001b[0m\n\u001b[0m\u001b[0;32m    233\u001b[0m                     \u001b[1;32mif\u001b[0m \u001b[0mready\u001b[0m\u001b[1;33m:\u001b[0m\u001b[1;33m\u001b[0m\u001b[1;33m\u001b[0m\u001b[0m\n\u001b[0;32m    234\u001b[0m                         \u001b[0mself\u001b[0m\u001b[1;33m.\u001b[0m\u001b[0m_handle_request_noblock\u001b[0m\u001b[1;33m(\u001b[0m\u001b[1;33m)\u001b[0m\u001b[1;33m\u001b[0m\u001b[1;33m\u001b[0m\u001b[0m\n",
      "\u001b[1;32mD:\\Workspace\\lib\\selectors.py\u001b[0m in \u001b[0;36mselect\u001b[1;34m(self, timeout)\u001b[0m\n\u001b[0;32m    321\u001b[0m         \u001b[0mready\u001b[0m \u001b[1;33m=\u001b[0m \u001b[1;33m[\u001b[0m\u001b[1;33m]\u001b[0m\u001b[1;33m\u001b[0m\u001b[1;33m\u001b[0m\u001b[0m\n\u001b[0;32m    322\u001b[0m         \u001b[1;32mtry\u001b[0m\u001b[1;33m:\u001b[0m\u001b[1;33m\u001b[0m\u001b[1;33m\u001b[0m\u001b[0m\n\u001b[1;32m--> 323\u001b[1;33m             \u001b[0mr\u001b[0m\u001b[1;33m,\u001b[0m \u001b[0mw\u001b[0m\u001b[1;33m,\u001b[0m \u001b[0m_\u001b[0m \u001b[1;33m=\u001b[0m \u001b[0mself\u001b[0m\u001b[1;33m.\u001b[0m\u001b[0m_select\u001b[0m\u001b[1;33m(\u001b[0m\u001b[0mself\u001b[0m\u001b[1;33m.\u001b[0m\u001b[0m_readers\u001b[0m\u001b[1;33m,\u001b[0m \u001b[0mself\u001b[0m\u001b[1;33m.\u001b[0m\u001b[0m_writers\u001b[0m\u001b[1;33m,\u001b[0m \u001b[1;33m[\u001b[0m\u001b[1;33m]\u001b[0m\u001b[1;33m,\u001b[0m \u001b[0mtimeout\u001b[0m\u001b[1;33m)\u001b[0m\u001b[1;33m\u001b[0m\u001b[1;33m\u001b[0m\u001b[0m\n\u001b[0m\u001b[0;32m    324\u001b[0m         \u001b[1;32mexcept\u001b[0m \u001b[0mInterruptedError\u001b[0m\u001b[1;33m:\u001b[0m\u001b[1;33m\u001b[0m\u001b[1;33m\u001b[0m\u001b[0m\n\u001b[0;32m    325\u001b[0m             \u001b[1;32mreturn\u001b[0m \u001b[0mready\u001b[0m\u001b[1;33m\u001b[0m\u001b[1;33m\u001b[0m\u001b[0m\n",
      "\u001b[1;32mD:\\Workspace\\lib\\selectors.py\u001b[0m in \u001b[0;36m_select\u001b[1;34m(self, r, w, _, timeout)\u001b[0m\n\u001b[0;32m    312\u001b[0m     \u001b[1;32mif\u001b[0m \u001b[0msys\u001b[0m\u001b[1;33m.\u001b[0m\u001b[0mplatform\u001b[0m \u001b[1;33m==\u001b[0m \u001b[1;34m'win32'\u001b[0m\u001b[1;33m:\u001b[0m\u001b[1;33m\u001b[0m\u001b[1;33m\u001b[0m\u001b[0m\n\u001b[0;32m    313\u001b[0m         \u001b[1;32mdef\u001b[0m \u001b[0m_select\u001b[0m\u001b[1;33m(\u001b[0m\u001b[0mself\u001b[0m\u001b[1;33m,\u001b[0m \u001b[0mr\u001b[0m\u001b[1;33m,\u001b[0m \u001b[0mw\u001b[0m\u001b[1;33m,\u001b[0m \u001b[0m_\u001b[0m\u001b[1;33m,\u001b[0m \u001b[0mtimeout\u001b[0m\u001b[1;33m=\u001b[0m\u001b[1;32mNone\u001b[0m\u001b[1;33m)\u001b[0m\u001b[1;33m:\u001b[0m\u001b[1;33m\u001b[0m\u001b[1;33m\u001b[0m\u001b[0m\n\u001b[1;32m--> 314\u001b[1;33m             \u001b[0mr\u001b[0m\u001b[1;33m,\u001b[0m \u001b[0mw\u001b[0m\u001b[1;33m,\u001b[0m \u001b[0mx\u001b[0m \u001b[1;33m=\u001b[0m \u001b[0mselect\u001b[0m\u001b[1;33m.\u001b[0m\u001b[0mselect\u001b[0m\u001b[1;33m(\u001b[0m\u001b[0mr\u001b[0m\u001b[1;33m,\u001b[0m \u001b[0mw\u001b[0m\u001b[1;33m,\u001b[0m \u001b[0mw\u001b[0m\u001b[1;33m,\u001b[0m \u001b[0mtimeout\u001b[0m\u001b[1;33m)\u001b[0m\u001b[1;33m\u001b[0m\u001b[1;33m\u001b[0m\u001b[0m\n\u001b[0m\u001b[0;32m    315\u001b[0m             \u001b[1;32mreturn\u001b[0m \u001b[0mr\u001b[0m\u001b[1;33m,\u001b[0m \u001b[0mw\u001b[0m \u001b[1;33m+\u001b[0m \u001b[0mx\u001b[0m\u001b[1;33m,\u001b[0m \u001b[1;33m[\u001b[0m\u001b[1;33m]\u001b[0m\u001b[1;33m\u001b[0m\u001b[1;33m\u001b[0m\u001b[0m\n\u001b[0;32m    316\u001b[0m     \u001b[1;32melse\u001b[0m\u001b[1;33m:\u001b[0m\u001b[1;33m\u001b[0m\u001b[1;33m\u001b[0m\u001b[0m\n",
      "\u001b[1;31mKeyboardInterrupt\u001b[0m: "
     ]
    }
   ],
   "source": [
    "# import plotly.io as pio\n",
    "\n",
    "# pio.write_html(fig, 'choropleth.html')\n",
    "# slider = IntSlider(value=40)\n",
    "# embed_minimal_html('export.html', views=[slider], title='Widgets export')\n",
    "\n",
    "from ipywidgets.embed import embed_minimal_html\n",
    "import http.server\n",
    "import socketserver\n",
    "\n",
    "PORT = 8002\n",
    "\n",
    "Handler = http.server.SimpleHTTPRequestHandler\n",
    "\n",
    "with socketserver.TCPServer((\"\", PORT), Handler) as httpd:\n",
    "    print(\"serving at port\", PORT)\n",
    "    httpd.serve_forever()\n",
    "    print(httpd.response)\n",
    "    xy = embed_minimal_html('export.html', views=[fig])\n",
    "#     print(xy)"
   ]
  },
  {
   "cell_type": "code",
   "execution_count": null,
   "metadata": {},
   "outputs": [],
   "source": [
    "from ipywidgets import IntSlider\n",
    "from ipywidgets.embed import embed_minimal_html\n",
    "\n",
    "slider = IntSlider(value=40)\n",
    "print(embed_minimal_html('export.html', views=[slider], title='Widgets export'))"
   ]
  },
  {
   "cell_type": "code",
   "execution_count": null,
   "metadata": {},
   "outputs": [],
   "source": []
  },
  {
   "cell_type": "code",
   "execution_count": 9,
   "metadata": {},
   "outputs": [
    {
     "ename": "NameError",
     "evalue": "name 'print_feature' is not defined",
     "output_type": "error",
     "traceback": [
      "\u001b[1;31m---------------------------------------------------------------------------\u001b[0m",
      "\u001b[1;31mNameError\u001b[0m                                 Traceback (most recent call last)",
      "\u001b[1;32m<ipython-input-9-bf3d810c3397>\u001b[0m in \u001b[0;36m<module>\u001b[1;34m\u001b[0m\n\u001b[0;32m     16\u001b[0m         \u001b[1;32mpass\u001b[0m\u001b[1;33m\u001b[0m\u001b[1;33m\u001b[0m\u001b[0m\n\u001b[0;32m     17\u001b[0m \u001b[1;33m\u001b[0m\u001b[0m\n\u001b[1;32m---> 18\u001b[1;33m \u001b[0mdrawing\u001b[0m\u001b[1;33m.\u001b[0m\u001b[0mon_new_feature\u001b[0m\u001b[1;33m(\u001b[0m\u001b[0mprint_feature\u001b[0m\u001b[1;33m)\u001b[0m\u001b[1;33m\u001b[0m\u001b[1;33m\u001b[0m\u001b[0m\n\u001b[0m\u001b[0;32m     19\u001b[0m \u001b[0mfig\u001b[0m\u001b[1;33m.\u001b[0m\u001b[0madd_layer\u001b[0m\u001b[1;33m(\u001b[0m\u001b[0mdrawing\u001b[0m\u001b[1;33m)\u001b[0m\u001b[1;33m\u001b[0m\u001b[1;33m\u001b[0m\u001b[0m\n\u001b[0;32m     20\u001b[0m \u001b[0mfig\u001b[0m\u001b[1;33m\u001b[0m\u001b[1;33m\u001b[0m\u001b[0m\n",
      "\u001b[1;31mNameError\u001b[0m: name 'print_feature' is not defined"
     ]
    }
   ],
   "source": []
  },
  {
   "cell_type": "code",
   "execution_count": null,
   "metadata": {},
   "outputs": [],
   "source": [
    "\n",
    "# import plotly.io as pio\n",
    "\n",
    "# pio.write_html(fig, 'choropleth.html')\n",
    "# slider = IntSlider(value=40)\n",
    "# embed_minimal_html('export.html', views=[slider], title='Widgets export')\n",
    "# import http.server\n",
    "# import socketserver\n",
    "\n",
    "# PORT = 8002\n",
    "\n",
    "# Handler = http.server.SimpleHTTPRequestHandler\n",
    "\n",
    "# with socketserver.TCPServer((\"\", PORT), Handler) as httpd:\n",
    "#     print(\"serving at port\", PORT)\n",
    "#     httpd.serve_forever()\n",
    "#     print(httpd.response)\n",
    "#     xy = embed_minimal_html('export.html', views=[fig])\n",
    "#     print(xy)\n",
    "#     from IPython.display import IFrame\n",
    "#     IFrame(src='export.html', width=700, height=600)\n",
    "#     from IPython.core.display import HTML\n",
    "#     display.HTML('export.html')\n",
    "\n",
    "    \n",
    "# # embed_minimal_html('export.html', views=fig)\n",
    "# # # response('export.html')\n",
    "# # print('export.html')\n",
    "\n",
    "#\n"
   ]
  }
 ],
 "metadata": {
  "kernelspec": {
   "display_name": "Python 3",
   "language": "python",
   "name": "python3"
  },
  "language_info": {
   "codemirror_mode": {
    "name": "ipython",
    "version": 3
   },
   "file_extension": ".py",
   "mimetype": "text/x-python",
   "name": "python",
   "nbconvert_exporter": "python",
   "pygments_lexer": "ipython3",
   "version": "3.7.1"
  }
 },
 "nbformat": 4,
 "nbformat_minor": 2
}
